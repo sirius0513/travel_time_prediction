{
 "cells": [
  {
   "cell_type": "code",
   "execution_count": 3,
   "metadata": {},
   "outputs": [],
   "source": [
    "%matplotlib inline\n",
    "import numpy as np # linear algebra\n",
    "import pandas as pd # data processing, CSV file I/O (e.g. pd.read_csv)\n",
    "from datetime import timedelta\n",
    "import datetime as dt\n",
    "import matplotlib.pyplot as plt\n",
    "import seaborn as sns\n",
    "import xgboost as xgb\n",
    "from sklearn.model_selection import train_test_split\n",
    "from sklearn.decomposition import PCA\n",
    "from sklearn.cluster import MiniBatchKMeans\n",
    "import warnings\n",
    "\n",
    "plt.rcParams['figure.figsize'] = [16, 10]\n",
    "warnings.filterwarnings('ignore')"
   ]
  },
  {
   "cell_type": "markdown",
   "metadata": {},
   "source": [
    "# Data understanding\n"
   ]
  },
  {
   "cell_type": "code",
   "execution_count": 68,
   "metadata": {},
   "outputs": [],
   "source": [
    "np.random.seed(2333)\n",
    "N = 100000 # number of sample rows in plots\n",
    "t0 = dt.datetime.now()\n",
    "train = pd.read_csv('./train.csv')\n",
    "test = pd.read_csv('./test.csv')\n",
    "sample_submission = pd.read_csv('./submission.csv')"
   ]
  },
  {
   "cell_type": "code",
   "execution_count": 69,
   "metadata": {},
   "outputs": [
    {
     "name": "stdout",
     "output_type": "stream",
     "text": [
      "There are 146001 training rows and 30000 test rows.\n",
      "There are 7 training columns and 6 test columns.\n"
     ]
    },
    {
     "data": {
      "text/html": [
       "<div>\n",
       "<style scoped>\n",
       "    .dataframe tbody tr th:only-of-type {\n",
       "        vertical-align: middle;\n",
       "    }\n",
       "\n",
       "    .dataframe tbody tr th {\n",
       "        vertical-align: top;\n",
       "    }\n",
       "\n",
       "    .dataframe thead th {\n",
       "        text-align: right;\n",
       "    }\n",
       "</style>\n",
       "<table border=\"1\" class=\"dataframe\">\n",
       "  <thead>\n",
       "    <tr style=\"text-align: right;\">\n",
       "      <th></th>\n",
       "      <th>row_id</th>\n",
       "      <th>start_lng</th>\n",
       "      <th>start_lat</th>\n",
       "      <th>end_lng</th>\n",
       "      <th>end_lat</th>\n",
       "      <th>datetime</th>\n",
       "      <th>duration</th>\n",
       "    </tr>\n",
       "  </thead>\n",
       "  <tbody>\n",
       "    <tr>\n",
       "      <th>0</th>\n",
       "      <td>0</td>\n",
       "      <td>-73.783279</td>\n",
       "      <td>40.644718</td>\n",
       "      <td>-73.963799</td>\n",
       "      <td>40.681320</td>\n",
       "      <td>2015-01-09 00:51:48</td>\n",
       "      <td>1815.0</td>\n",
       "    </tr>\n",
       "    <tr>\n",
       "      <th>1</th>\n",
       "      <td>1</td>\n",
       "      <td>-122.422385</td>\n",
       "      <td>37.789408</td>\n",
       "      <td>-122.419890</td>\n",
       "      <td>37.766692</td>\n",
       "      <td>2012-09-14 01:46:00</td>\n",
       "      <td>300.0</td>\n",
       "    </tr>\n",
       "  </tbody>\n",
       "</table>\n",
       "</div>"
      ],
      "text/plain": [
       "   row_id   start_lng  start_lat     end_lng    end_lat             datetime  \\\n",
       "0       0  -73.783279  40.644718  -73.963799  40.681320  2015-01-09 00:51:48   \n",
       "1       1 -122.422385  37.789408 -122.419890  37.766692  2012-09-14 01:46:00   \n",
       "\n",
       "   duration  \n",
       "0    1815.0  \n",
       "1     300.0  "
      ]
     },
     "execution_count": 69,
     "metadata": {},
     "output_type": "execute_result"
    }
   ],
   "source": [
    "print('There are {} training rows and {} test rows.'.format(train.shape[0], test.shape[0]))\n",
    "print('There are {} training columns and {} test columns.'.format(train.shape[1], test.shape[1]))\n",
    "train.head(2)"
   ]
  },
  {
   "cell_type": "code",
   "execution_count": 71,
   "metadata": {},
   "outputs": [
    {
     "name": "stdout",
     "output_type": "stream",
     "text": [
      "training set: row_id         0\n",
      "start_lng    400\n",
      "start_lat      0\n",
      "end_lng        0\n",
      "end_lat      600\n",
      "datetime       0\n",
      "duration       0\n",
      "dtype: int64\n",
      "test set: row_id       0\n",
      "start_lng    0\n",
      "start_lat    0\n",
      "end_lng      0\n",
      "end_lat      0\n",
      "datetime     0\n",
      "dtype: int64\n",
      "updated: row_id       0\n",
      "start_lng    0\n",
      "start_lat    0\n",
      "end_lng      0\n",
      "end_lat      0\n",
      "datetime     0\n",
      "duration     0\n",
      "dtype: int64\n"
     ]
    }
   ],
   "source": [
    "# check if there are missing values\n",
    "print(\"training set:\", train.isnull().sum())\n",
    "print(\"test set:\", test.isnull().sum())\n",
    "\n",
    "train_nonull = train.dropna(how='any', inplace=False)\n",
    "print(\"updated:\", train_nonull.isnull().sum())"
   ]
  },
  {
   "cell_type": "code",
   "execution_count": 72,
   "metadata": {},
   "outputs": [
    {
     "name": "stdout",
     "output_type": "stream",
     "text": [
      "Average trip duration: 1065.8049323797768\n",
      "Max. trip duration: 42168.0\n"
     ]
    },
    {
     "data": {
      "text/html": [
       "<div>\n",
       "<style scoped>\n",
       "    .dataframe tbody tr th:only-of-type {\n",
       "        vertical-align: middle;\n",
       "    }\n",
       "\n",
       "    .dataframe tbody tr th {\n",
       "        vertical-align: top;\n",
       "    }\n",
       "\n",
       "    .dataframe thead th {\n",
       "        text-align: right;\n",
       "    }\n",
       "</style>\n",
       "<table border=\"1\" class=\"dataframe\">\n",
       "  <thead>\n",
       "    <tr style=\"text-align: right;\">\n",
       "      <th></th>\n",
       "      <th>row_id</th>\n",
       "      <th>start_lng</th>\n",
       "      <th>start_lat</th>\n",
       "      <th>end_lng</th>\n",
       "      <th>end_lat</th>\n",
       "      <th>datetime</th>\n",
       "      <th>duration</th>\n",
       "    </tr>\n",
       "  </thead>\n",
       "  <tbody>\n",
       "    <tr>\n",
       "      <th>15152</th>\n",
       "      <td>15152</td>\n",
       "      <td>-74.008102</td>\n",
       "      <td>40.738548</td>\n",
       "      <td>-73.973732</td>\n",
       "      <td>40.789421</td>\n",
       "      <td>2015-02-01 16:17:12</td>\n",
       "      <td>42168.0</td>\n",
       "    </tr>\n",
       "    <tr>\n",
       "      <th>32</th>\n",
       "      <td>32</td>\n",
       "      <td>-73.941292</td>\n",
       "      <td>40.787903</td>\n",
       "      <td>-73.932327</td>\n",
       "      <td>40.794922</td>\n",
       "      <td>2015-04-19 14:53:48</td>\n",
       "      <td>40000.0</td>\n",
       "    </tr>\n",
       "    <tr>\n",
       "      <th>162</th>\n",
       "      <td>162</td>\n",
       "      <td>-73.951447</td>\n",
       "      <td>40.774029</td>\n",
       "      <td>-73.977524</td>\n",
       "      <td>40.764542</td>\n",
       "      <td>2015-03-15 00:49:28</td>\n",
       "      <td>40000.0</td>\n",
       "    </tr>\n",
       "    <tr>\n",
       "      <th>191</th>\n",
       "      <td>191</td>\n",
       "      <td>-74.007095</td>\n",
       "      <td>40.743675</td>\n",
       "      <td>-73.994583</td>\n",
       "      <td>40.750618</td>\n",
       "      <td>2015-04-04 21:26:13</td>\n",
       "      <td>40000.0</td>\n",
       "    </tr>\n",
       "    <tr>\n",
       "      <th>332</th>\n",
       "      <td>332</td>\n",
       "      <td>-73.978447</td>\n",
       "      <td>40.777508</td>\n",
       "      <td>-73.983139</td>\n",
       "      <td>40.781422</td>\n",
       "      <td>2015-06-02 21:18:39</td>\n",
       "      <td>40000.0</td>\n",
       "    </tr>\n",
       "    <tr>\n",
       "      <th>349</th>\n",
       "      <td>349</td>\n",
       "      <td>-74.004578</td>\n",
       "      <td>40.724033</td>\n",
       "      <td>-74.009193</td>\n",
       "      <td>40.720688</td>\n",
       "      <td>2015-10-09 10:35:58</td>\n",
       "      <td>40000.0</td>\n",
       "    </tr>\n",
       "    <tr>\n",
       "      <th>452</th>\n",
       "      <td>452</td>\n",
       "      <td>-73.983459</td>\n",
       "      <td>40.729961</td>\n",
       "      <td>-73.962967</td>\n",
       "      <td>40.716503</td>\n",
       "      <td>2015-08-10 22:46:05</td>\n",
       "      <td>40000.0</td>\n",
       "    </tr>\n",
       "    <tr>\n",
       "      <th>542</th>\n",
       "      <td>542</td>\n",
       "      <td>-73.990013</td>\n",
       "      <td>40.756950</td>\n",
       "      <td>-73.978386</td>\n",
       "      <td>40.752251</td>\n",
       "      <td>2015-04-02 22:51:25</td>\n",
       "      <td>40000.0</td>\n",
       "    </tr>\n",
       "    <tr>\n",
       "      <th>592</th>\n",
       "      <td>592</td>\n",
       "      <td>-73.949409</td>\n",
       "      <td>40.777802</td>\n",
       "      <td>-73.991531</td>\n",
       "      <td>40.754902</td>\n",
       "      <td>2015-01-11 21:50:21</td>\n",
       "      <td>40000.0</td>\n",
       "    </tr>\n",
       "    <tr>\n",
       "      <th>795</th>\n",
       "      <td>795</td>\n",
       "      <td>-73.985260</td>\n",
       "      <td>40.747040</td>\n",
       "      <td>-73.992729</td>\n",
       "      <td>40.736679</td>\n",
       "      <td>2015-09-05 14:42:05</td>\n",
       "      <td>40000.0</td>\n",
       "    </tr>\n",
       "  </tbody>\n",
       "</table>\n",
       "</div>"
      ],
      "text/plain": [
       "       row_id  start_lng  start_lat    end_lng    end_lat  \\\n",
       "15152   15152 -74.008102  40.738548 -73.973732  40.789421   \n",
       "32         32 -73.941292  40.787903 -73.932327  40.794922   \n",
       "162       162 -73.951447  40.774029 -73.977524  40.764542   \n",
       "191       191 -74.007095  40.743675 -73.994583  40.750618   \n",
       "332       332 -73.978447  40.777508 -73.983139  40.781422   \n",
       "349       349 -74.004578  40.724033 -74.009193  40.720688   \n",
       "452       452 -73.983459  40.729961 -73.962967  40.716503   \n",
       "542       542 -73.990013  40.756950 -73.978386  40.752251   \n",
       "592       592 -73.949409  40.777802 -73.991531  40.754902   \n",
       "795       795 -73.985260  40.747040 -73.992729  40.736679   \n",
       "\n",
       "                  datetime  duration  \n",
       "15152  2015-02-01 16:17:12   42168.0  \n",
       "32     2015-04-19 14:53:48   40000.0  \n",
       "162    2015-03-15 00:49:28   40000.0  \n",
       "191    2015-04-04 21:26:13   40000.0  \n",
       "332    2015-06-02 21:18:39   40000.0  \n",
       "349    2015-10-09 10:35:58   40000.0  \n",
       "452    2015-08-10 22:46:05   40000.0  \n",
       "542    2015-04-02 22:51:25   40000.0  \n",
       "592    2015-01-11 21:50:21   40000.0  \n",
       "795    2015-09-05 14:42:05   40000.0  "
      ]
     },
     "execution_count": 72,
     "metadata": {},
     "output_type": "execute_result"
    }
   ],
   "source": [
    "print(\"Average trip duration:\", train_nonull['duration'].mean())\n",
    "print(\"Max. trip duration:\", train_nonull['duration'].max())\n",
    "\n",
    "# TODO: elimintate unreasonable duration\n",
    "# ~1000 column with duration >= 40000\n",
    "train_nonull.nlargest(10, 'duration') # boundary: 1025"
   ]
  },
  {
   "cell_type": "code",
   "execution_count": 74,
   "metadata": {},
   "outputs": [
    {
     "data": {
      "image/png": "[encoded data removed]",
      "text/plain": [
       "<Figure size 1152x720 with 1 Axes>"
      ]
     },
     "metadata": {
      "needs_background": "light"
     },
     "output_type": "display_data"
    }
   ],
   "source": [
    "train_nonull['log_duration'] = np.log(train_nonull['duration'].values + 1)\n",
    "plt.hist(train_nonull['log_duration'].values, bins=100)\n",
    "plt.xlabel('log(duration)')\n",
    "plt.ylabel('number of train records')\n",
    "plt.show()"
   ]
  },
  {
   "cell_type": "code",
   "execution_count": 88,
   "metadata": {},
   "outputs": [
    {
     "name": "stdout",
     "output_type": "stream",
     "text": [
      "143489\n"
     ]
    }
   ],
   "source": [
    "train_dur = train_nonull.loc[(train_nonull['log_duration'] >= 0.5) & (train_nonull['log_duration'] <= 10)]\n",
    "print(train_dur.shape[0])"
   ]
  },
  {
   "cell_type": "code",
   "execution_count": null,
   "metadata": {},
   "outputs": [],
   "source": [
    "plt.plot(train_dur.groupby('datetime').count()[['row_id']], 'o-', label='train')\n",
    "plt.plot(test.groupby('datetime').count()[['row_id']], 'o-', label='test')\n",
    "plt.title('Train and test period complete overlap.')\n",
    "plt.legend(loc=0)\n",
    "plt.ylabel('number of records')\n",
    "plt.show()"
   ]
  },
  {
   "cell_type": "code",
   "execution_count": null,
   "metadata": {},
   "outputs": [],
   "source": []
  }
 ],
 "metadata": {
  "kernelspec": {
   "display_name": "Python 3",
   "language": "python",
   "name": "python3"
  },
  "language_info": {
   "codemirror_mode": {
    "name": "ipython",
    "version": 3
   },
   "file_extension": ".py",
   "mimetype": "text/x-python",
   "name": "python",
   "nbconvert_exporter": "python",
   "pygments_lexer": "ipython3",
   "version": "3.7.2"
  }
 },
 "nbformat": 4,
 "nbformat_minor": 2
}
